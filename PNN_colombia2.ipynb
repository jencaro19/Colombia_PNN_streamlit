{
 "cells": [
  {
   "cell_type": "markdown",
   "metadata": {},
   "source": [
    "# Importing necesary libraries "
   ]
  },
  {
   "cell_type": "code",
   "execution_count": 1,
   "metadata": {},
   "outputs": [],
   "source": [
    "import geemap\n",
    "import ee\n",
    "import os\n",
    "import pandas as pd"
   ]
  },
  {
   "cell_type": "code",
   "execution_count": 2,
   "metadata": {},
   "outputs": [],
   "source": [
    "ee.Initialize() "
   ]
  },
  {
   "cell_type": "markdown",
   "metadata": {},
   "source": [
    "# Download the shapefiles which gives the vector shapes of the Natural Park in Colombia"
   ]
  },
  {
   "cell_type": "code",
   "execution_count": 3,
   "metadata": {},
   "outputs": [],
   "source": [
    "pnn = ee.FeatureCollection('projects/spicedfinalproject/assets/colombia_PNN')\n",
    "\n",
    "los_nevados = pnn.filter(ee.Filter.eq(\"Nombre\", \"LOS NEVADOS\"))"
   ]
  },
  {
   "cell_type": "code",
   "execution_count": 4,
   "metadata": {},
   "outputs": [],
   "source": [
    "nat_park = geemap.Map()\n",
    "nat_park.add_basemap('OpenStreetMap')\n",
    "nat_park.addLayer(pnn, {}, 'PNN_Colombia')\n",
    "nat_park.addLayer(los_nevados, {}, 'Los Nevados')\n",
    "# nat_park"
   ]
  },
  {
   "cell_type": "code",
   "execution_count": 5,
   "metadata": {},
   "outputs": [],
   "source": [
    "# masking clouds\n",
    "def maskcloud1(image):\n",
    "  QA60 = image.select(['QA60'])\n",
    "  return image.updateMask(QA60.lt(1))\n",
    "\n",
    "# obtaining NDVI (vegetation index)\n",
    "def get_ndvi(image):\n",
    "  return image.addBands(image.normalizedDifference([\"B8\",\"B4\"]).rename('NDVI'))\n",
    "\n",
    "# calculating NDMI (moisture index)\n",
    "def get_ndmi(image):\n",
    "  return image.addBands(image.normalizedDifference([\"B8A\",\"B11\"]).rename('NDMI'))\n",
    "\n",
    "#clip the dataset according to the geometry\n",
    "# needs to be into a function since the clip function is only for ee.image and we have a ee.ImageCollection\n",
    "def clip_img_nevados(image):\n",
    "    return image.clip(los_nevados)"
   ]
  },
  {
   "cell_type": "markdown",
   "metadata": {},
   "source": [
    "# Open data catalog from Sentinel 2"
   ]
  },
  {
   "cell_type": "code",
   "execution_count": 6,
   "metadata": {},
   "outputs": [],
   "source": [
    "# Sentinel collection\n",
    "Sentinel2 = ee.ImageCollection(\"COPERNICUS/S2_HARMONIZED\")\\\n",
    "    .filterBounds(los_nevados)\\\n",
    "    .filter(ee.Filter.lte('CLOUD_COVERAGE_ASSESSMENT',18))\\\n",
    "    .select('B.*|QA.*')\\\n",
    "    .map(clip_img_nevados)"
   ]
  },
  {
   "cell_type": "code",
   "execution_count": 7,
   "metadata": {},
   "outputs": [],
   "source": [
    "#  First image from Sentinel Coll. \n",
    "Sentinel2_img1 = (ee.ImageCollection(\"COPERNICUS/S2_HARMONIZED\")\\\n",
    "    .filterBounds(los_nevados)\\\n",
    "    .filter(ee.Filter.lte('CLOUD_COVERAGE_ASSESSMENT',18))\\\n",
    "    .map(clip_img_nevados)\\\n",
    "    .select('B.*|QA.*')\n",
    "    .first())"
   ]
  },
  {
   "cell_type": "markdown",
   "metadata": {},
   "source": [
    "## Visualization parameter"
   ]
  },
  {
   "cell_type": "code",
   "execution_count": 8,
   "metadata": {},
   "outputs": [],
   "source": [
    "# Vegetation Index\n",
    "Vispara_ndvi = {'bands':'NDVI',\n",
    "                    'min': -1, \n",
    "                    'max': 1,\n",
    "                    'palette': ['FFFFFF', 'CE7E45', 'DF923D', 'F1B555', \n",
    "                        'FCD163', '99B718', '74A901', '66A000', '529400',\n",
    "                        '3E8601', '207401', '056201', '004C00', '023B01', \n",
    "                        '012E01', '011D01', '011301']}\n",
    "      \n"
   ]
  },
  {
   "cell_type": "code",
   "execution_count": 9,
   "metadata": {},
   "outputs": [],
   "source": [
    "# Moisture Index\n",
    "Vispara_ndmi = {'bands':'NDMI',\n",
    "                    'min': -1, \n",
    "                    'max': 1, \n",
    "                    'palette': ['040274', '040281', '0502a3', '0502b8', '0502ce', '0502e6',\n",
    "                        '0602ff', '235cb1', '307ef3', '269db1', '30c8e2', '32d3ef',\n",
    "                        '3be285', '3ff38f', '86e26f', '3ae237', 'b5e22e', 'd6e21f',\n",
    "                        'fff705', 'ffd611', 'ffb613', 'ff8b13', 'ff6e08', 'ff500d',\n",
    "                        'ff0000', 'de0101', 'c21301', 'a71001', '911003']}"
   ]
  },
  {
   "cell_type": "code",
   "execution_count": 10,
   "metadata": {},
   "outputs": [],
   "source": [
    "# Precipiation parameters\n",
    "Vispara_rain = {\n",
    "  'min': 0.0,\n",
    "  'max': 30.0,\n",
    "  'palette': ['1621a2', 'ffffff', '03ffff', '13ff03', 'efff00', 'ffb103', 'ff2300']}"
   ]
  },
  {
   "cell_type": "code",
   "execution_count": 11,
   "metadata": {},
   "outputs": [],
   "source": [
    "# Natural Color\n",
    "nat_color = {'bands': [\"B4\",\"B3\",\"B2\"],\n",
    "  'gamma': 1.8330000000000002,\n",
    "  'max': 7270,\n",
    "  'min': 286,\n",
    "  'opacity': 0.99}"
   ]
  },
  {
   "cell_type": "code",
   "execution_count": 12,
   "metadata": {},
   "outputs": [],
   "source": [
    "# Infrared\n",
    "infrared = {'bands': [\"B8\",\"B4\",\"B3\"],\n",
    "  'gamma': 1.6,\n",
    "  'max': 2233.302942508474,\n",
    "  'min': 364.9824640612618,\n",
    "  'opacity': 0.99}"
   ]
  },
  {
   "cell_type": "code",
   "execution_count": 13,
   "metadata": {},
   "outputs": [],
   "source": [
    "# Short wave\n",
    "short_wave = {'bands': [\"B12\",\"B8A\",\"B4\"], #1st sigmoid\n",
    "  'gamma': 2.098,\n",
    "  'max': 2135.7597918822803,\n",
    "  'min': 675.9357833389589,\n",
    "  'opacity': 1}"
   ]
  },
  {
   "cell_type": "code",
   "execution_count": 14,
   "metadata": {},
   "outputs": [],
   "source": [
    "# Vegetation\n",
    "vegetation = {'bands': [\"B11\",\"B8\",\"B2\"], #90% stretch\n",
    "  'gamma': 1.8330000000000002,\n",
    "  'max': 5948.1,\n",
    "  'min': 932.9000000000001,\n",
    "  'opacity': 1}"
   ]
  },
  {
   "cell_type": "markdown",
   "metadata": {},
   "source": [
    "## add layers to map"
   ]
  },
  {
   "cell_type": "code",
   "execution_count": 15,
   "metadata": {},
   "outputs": [
    {
     "data": {
      "application/vnd.jupyter.widget-view+json": {
       "model_id": "acf9c16a0d6e4b56b8c0f1b653b62364",
       "version_major": 2,
       "version_minor": 0
      },
      "text/plain": [
       "Map(center=[20, 0], controls=(WidgetControl(options=['position', 'transparent_bg'], widget=HBox(children=(Togg…"
      ]
     },
     "metadata": {},
     "output_type": "display_data"
    }
   ],
   "source": [
    "map = geemap.Map()\n",
    "map.add_basemap('OpenStreetMap')\n",
    "map"
   ]
  },
  {
   "cell_type": "code",
   "execution_count": 16,
   "metadata": {},
   "outputs": [],
   "source": [
    "# add sentinel collection\n",
    "map.addLayer(Sentinel2, nat_color, 'Natural Color')\n",
    "# add Natural Parl\n",
    "map.centerObject(los_nevados)\n",
    "map.addLayer(los_nevados, {}, 'Los Nevados')"
   ]
  },
  {
   "cell_type": "markdown",
   "metadata": {},
   "source": [
    "### Checking image properties"
   ]
  },
  {
   "cell_type": "code",
   "execution_count": 17,
   "metadata": {},
   "outputs": [
    {
     "data": {
      "text/plain": [
       "{'CLOUDY_PIXEL_PERCENTAGE': 17,\n",
       " 'CLOUD_COVERAGE_ASSESSMENT': 17,\n",
       " 'DATASTRIP_ID': 'S2A_OPER_MSI_L1C_DS_SGS__20151221T194344_S20151221T153112_N02.01',\n",
       " 'DATATAKE_IDENTIFIER': 'GS2A_20151221T153112_002596_N02.01',\n",
       " 'DATATAKE_TYPE': 'INS-NOBS',\n",
       " 'DEGRADED_MSI_DATA_PERCENTAGE': 0,\n",
       " 'FORMAT_CORRECTNESS': 'PASSED',\n",
       " 'FORMAT_CORRECTNESS_FLAG': 'PASSED',\n",
       " 'GENERAL_QUALITY': 'PASSED',\n",
       " 'GENERAL_QUALITY_FLAG': 'PASSED',\n",
       " 'GENERATION_TIME': 1450711872000,\n",
       " 'GEOMETRIC_QUALITY': 'FAILED',\n",
       " 'GEOMETRIC_QUALITY_FLAG': 'FAILED',\n",
       " 'GRANULE_ID': 'L1C_T18NVL_A002596_20151221T153112',\n",
       " 'IMAGE_DATE': '2015-12-21',\n",
       " 'MEAN_INCIDENCE_AZIMUTH_ANGLE_B1': 103.330152758,\n",
       " 'MEAN_INCIDENCE_AZIMUTH_ANGLE_B10': 102.469256032,\n",
       " 'MEAN_INCIDENCE_AZIMUTH_ANGLE_B11': 102.753601056,\n",
       " 'MEAN_INCIDENCE_AZIMUTH_ANGLE_B12': 103.012985957,\n",
       " 'MEAN_INCIDENCE_AZIMUTH_ANGLE_B2': 101.888962759,\n",
       " 'MEAN_INCIDENCE_AZIMUTH_ANGLE_B3': 102.189039508,\n",
       " 'MEAN_INCIDENCE_AZIMUTH_ANGLE_B4': 102.456859252,\n",
       " 'MEAN_INCIDENCE_AZIMUTH_ANGLE_B5': 102.642638709,\n",
       " 'MEAN_INCIDENCE_AZIMUTH_ANGLE_B6': 102.778972935,\n",
       " 'MEAN_INCIDENCE_AZIMUTH_ANGLE_B7': 102.924673222,\n",
       " 'MEAN_INCIDENCE_AZIMUTH_ANGLE_B8': 102.038290697,\n",
       " 'MEAN_INCIDENCE_AZIMUTH_ANGLE_B8A': 103.101314648,\n",
       " 'MEAN_INCIDENCE_AZIMUTH_ANGLE_B9': 103.471956736,\n",
       " 'MEAN_INCIDENCE_ZENITH_ANGLE_B1': 6.66471718613,\n",
       " 'MEAN_INCIDENCE_ZENITH_ANGLE_B10': 6.47099572232,\n",
       " 'MEAN_INCIDENCE_ZENITH_ANGLE_B11': 6.5581472355,\n",
       " 'MEAN_INCIDENCE_ZENITH_ANGLE_B12': 6.65664325631,\n",
       " 'MEAN_INCIDENCE_ZENITH_ANGLE_B2': 6.39359577591,\n",
       " 'MEAN_INCIDENCE_ZENITH_ANGLE_B3': 6.43146046189,\n",
       " 'MEAN_INCIDENCE_ZENITH_ANGLE_B4': 6.47927322454,\n",
       " 'MEAN_INCIDENCE_ZENITH_ANGLE_B5': 6.51360007669,\n",
       " 'MEAN_INCIDENCE_ZENITH_ANGLE_B6': 6.54796953565,\n",
       " 'MEAN_INCIDENCE_ZENITH_ANGLE_B7': 6.58558937387,\n",
       " 'MEAN_INCIDENCE_ZENITH_ANGLE_B8': 6.41063005168,\n",
       " 'MEAN_INCIDENCE_ZENITH_ANGLE_B8A': 6.62160465326,\n",
       " 'MEAN_INCIDENCE_ZENITH_ANGLE_B9': 6.71817878255,\n",
       " 'MEAN_SOLAR_AZIMUTH_ANGLE': 143.835792866,\n",
       " 'MEAN_SOLAR_ZENITH_ANGLE': 35.5489589266,\n",
       " 'MGRS_TILE': '18NVL',\n",
       " 'NOMINAL_SCALE': {'B1': 60,\n",
       "  'B10': 60,\n",
       "  'B11': 20,\n",
       "  'B12': 20,\n",
       "  'B2': 10,\n",
       "  'B3': 10,\n",
       "  'B4': 10,\n",
       "  'B5': 20,\n",
       "  'B6': 20,\n",
       "  'B7': 20,\n",
       "  'B8': 10,\n",
       "  'B8A': 20,\n",
       "  'B9': 60,\n",
       "  'QA10': 10,\n",
       "  'QA20': 20,\n",
       "  'QA60': 60},\n",
       " 'PROCESSING_BASELINE': '02.01',\n",
       " 'PRODUCT_ID': 'S2A_MSIL1C_20151221T153112_N0201_R025_T18NVL_20151221T153112',\n",
       " 'RADIOMETRIC_QUALITY': 'PASSED',\n",
       " 'RADIOMETRIC_QUALITY_FLAG': 'PASSED',\n",
       " 'REFLECTANCE_CONVERSION_CORRECTION': 1.03286962269,\n",
       " 'SENSING_ORBIT_DIRECTION': 'DESCENDING',\n",
       " 'SENSING_ORBIT_NUMBER': 25,\n",
       " 'SENSOR_QUALITY': 'PASSED',\n",
       " 'SENSOR_QUALITY_FLAG': 'PASSED',\n",
       " 'SOLAR_IRRADIANCE_B1': 1913.57,\n",
       " 'SOLAR_IRRADIANCE_B10': 367.15,\n",
       " 'SOLAR_IRRADIANCE_B11': 245.59,\n",
       " 'SOLAR_IRRADIANCE_B12': 85.25,\n",
       " 'SOLAR_IRRADIANCE_B2': 1941.63,\n",
       " 'SOLAR_IRRADIANCE_B3': 1822.61,\n",
       " 'SOLAR_IRRADIANCE_B4': 1512.79,\n",
       " 'SOLAR_IRRADIANCE_B5': 1425.56,\n",
       " 'SOLAR_IRRADIANCE_B6': 1288.32,\n",
       " 'SOLAR_IRRADIANCE_B7': 1163.19,\n",
       " 'SOLAR_IRRADIANCE_B8': 1036.39,\n",
       " 'SOLAR_IRRADIANCE_B8A': 955.19,\n",
       " 'SOLAR_IRRADIANCE_B9': 813.04,\n",
       " 'SPACECRAFT_NAME': 'Sentinel-2A',\n",
       " 'system:asset_size': '1342.094083 MB',\n",
       " 'system:band_names': ['B1',\n",
       "  'B2',\n",
       "  'B3',\n",
       "  'B4',\n",
       "  'B5',\n",
       "  'B6',\n",
       "  'B7',\n",
       "  'B8',\n",
       "  'B8A',\n",
       "  'B9',\n",
       "  'B10',\n",
       "  'B11',\n",
       "  'B12',\n",
       "  'QA10',\n",
       "  'QA20',\n",
       "  'QA60'],\n",
       " 'system:id': 'COPERNICUS/S2_HARMONIZED/20151221T153112_20151221T153112_T18NVL',\n",
       " 'system:index': '20151221T153112_20151221T153112_T18NVL',\n",
       " 'system:time_end': '2015-12-21 15:33:36',\n",
       " 'system:time_start': '2015-12-21 15:33:36',\n",
       " 'system:version': 1654244138723794}"
      ]
     },
     "execution_count": 17,
     "metadata": {},
     "output_type": "execute_result"
    }
   ],
   "source": [
    "props = geemap.image_props(Sentinel2_img1)\n",
    "props.getInfo()"
   ]
  },
  {
   "cell_type": "code",
   "execution_count": 18,
   "metadata": {},
   "outputs": [
    {
     "data": {
      "text/plain": [
       "'2015-12-21'"
      ]
     },
     "execution_count": 18,
     "metadata": {},
     "output_type": "execute_result"
    }
   ],
   "source": [
    "props.get('IMAGE_DATE').getInfo()"
   ]
  },
  {
   "cell_type": "code",
   "execution_count": 19,
   "metadata": {},
   "outputs": [
    {
     "data": {
      "text/plain": [
       "'2015-12-21 15:33:36'"
      ]
     },
     "execution_count": 19,
     "metadata": {},
     "output_type": "execute_result"
    }
   ],
   "source": [
    "props.get('system:time_start').getInfo()"
   ]
  },
  {
   "cell_type": "code",
   "execution_count": 20,
   "metadata": {},
   "outputs": [
    {
     "data": {
      "text/plain": [
       "17"
      ]
     },
     "execution_count": 20,
     "metadata": {},
     "output_type": "execute_result"
    }
   ],
   "source": [
    "props.get('CLOUD_COVERAGE_ASSESSMENT').getInfo()"
   ]
  },
  {
   "cell_type": "markdown",
   "metadata": {},
   "source": [
    "# Unsupervised Classification "
   ]
  },
  {
   "cell_type": "code",
   "execution_count": 21,
   "metadata": {},
   "outputs": [],
   "source": [
    "# make training data\n",
    "training = Sentinel2_img1.sample(\n",
    "    **{\n",
    "        'region': los_nevados,\n",
    "        'scale': 100,\n",
    "        'numPixels': 1500,\n",
    "        'seed': 0,\n",
    "        'geometries': True,  # Set this to False to ignore geometries\n",
    "    }\n",
    ")"
   ]
  },
  {
   "cell_type": "code",
   "execution_count": 22,
   "metadata": {},
   "outputs": [
    {
     "data": {
      "application/vnd.jupyter.widget-view+json": {
       "model_id": "acf9c16a0d6e4b56b8c0f1b653b62364",
       "version_major": 2,
       "version_minor": 0
      },
      "text/plain": [
       "Map(bottom=8274.0, center=[4.785090304963631, -75.38691576064576], controls=(WidgetControl(options=['position'…"
      ]
     },
     "metadata": {},
     "output_type": "display_data"
    }
   ],
   "source": [
    "map.addLayer(training, {}, 'training', False)\n",
    "map"
   ]
  },
  {
   "cell_type": "markdown",
   "metadata": {},
   "source": [
    "# ee.Clusterer.wekaKMeans \n",
    "Cluster data using the k means algorithm. Can use either the Euclidean distance (default) or the Manhattan distance. If the Manhattan distance is used, then centroids are computed as the component-wise median rather than mean.\n",
    "\n",
    "Link: https://developers.google.com/earth-engine/apidocs/ee-clusterer-wekakmeans"
   ]
  },
  {
   "cell_type": "code",
   "execution_count": 23,
   "metadata": {},
   "outputs": [
    {
     "data": {
      "text/plain": [
       "<ee.Clusterer at 0x1c146feb550>"
      ]
     },
     "execution_count": 23,
     "metadata": {},
     "output_type": "execute_result"
    }
   ],
   "source": [
    "# train the clusters with the ee.Cluster.wekaKMeans\n",
    "# establish number of clusters\n",
    "\n",
    "n_clusters = 10\n",
    "wekaKMeans = ee.Clusterer.wekaKMeans(n_clusters).train(training)\n",
    "wekaKMeans"
   ]
  },
  {
   "cell_type": "code",
   "execution_count": 24,
   "metadata": {},
   "outputs": [
    {
     "data": {
      "text/plain": [
       "<ee.image.Image at 0x1c146e474c0>"
      ]
     },
     "execution_count": 24,
     "metadata": {},
     "output_type": "execute_result"
    }
   ],
   "source": [
    "# apply model to Single Sentinel image\n",
    "unsupervised = Sentinel2_img1.cluster(wekaKMeans) #apply the model to Sentinel image \n",
    "unsupervised"
   ]
  },
  {
   "cell_type": "code",
   "execution_count": 25,
   "metadata": {},
   "outputs": [],
   "source": [
    "# add layer to map\n",
    "map.addLayer(unsupervised.randomVisualizer(), {}, 'Clusters')"
   ]
  },
  {
   "cell_type": "code",
   "execution_count": null,
   "metadata": {},
   "outputs": [],
   "source": []
  }
 ],
 "metadata": {
  "interpreter": {
   "hash": "ad2bdc8ecc057115af97d19610ffacc2b4e99fae6737bb82f5d7fb13d2f2c186"
  },
  "kernelspec": {
   "display_name": "Python 3.9.7 ('base')",
   "language": "python",
   "name": "python3"
  },
  "language_info": {
   "codemirror_mode": {
    "name": "ipython",
    "version": 3
   },
   "file_extension": ".py",
   "mimetype": "text/x-python",
   "name": "python",
   "nbconvert_exporter": "python",
   "pygments_lexer": "ipython3",
   "version": "3.9.7"
  },
  "orig_nbformat": 4
 },
 "nbformat": 4,
 "nbformat_minor": 2
}
